{
 "cells": [
  {
   "cell_type": "code",
   "execution_count": 14,
   "metadata": {},
   "outputs": [],
   "source": [
    "import numpy as np\n",
    "from keras.models import Sequential, model_from_json\n",
    "from keras.layers import Dense, Dropout, Activation, Flatten, Conv2D, MaxPooling2D\n",
    "from keras.utils import plot_model\n",
    "import pickle"
   ]
  },
  {
   "cell_type": "code",
   "execution_count": 2,
   "metadata": {},
   "outputs": [],
   "source": [
    "with open('img_data.pkl', 'rb') as f:\n",
    "        X = pickle.load(f)\n",
    "with open('img_label.pkl', 'rb') as f:\n",
    "        Y = pickle.load(f)\n"
   ]
  },
  {
   "cell_type": "code",
   "execution_count": 3,
   "metadata": {},
   "outputs": [
    {
     "data": {
      "text/plain": [
       "(132, 4)"
      ]
     },
     "execution_count": 3,
     "metadata": {},
     "output_type": "execute_result"
    }
   ],
   "source": [
    "Y = np.array(Y)\n",
    "Y.shape"
   ]
  },
  {
   "cell_type": "code",
   "execution_count": 4,
   "metadata": {},
   "outputs": [],
   "source": [
    "X.shape\n",
    "X = X / 255.0"
   ]
  },
  {
   "cell_type": "code",
   "execution_count": 9,
   "metadata": {},
   "outputs": [],
   "source": [
    "model = Sequential()\n",
    "model.add(Conv2D(4, (3, 3), input_shape=X.shape[1:]))\n",
    "model.add(Activation('relu'))\n",
    "model.add(MaxPooling2D(pool_size=(3, 3)))\n",
    "\n",
    "model.add(Conv2D(8, (3, 3), input_shape=X.shape[1:]))\n",
    "model.add(Activation('relu'))\n",
    "model.add(MaxPooling2D(pool_size=(3, 3)))\n",
    "\n",
    "model.add(Flatten())  # this converts our 3D feature maps to 1D feature vectors\n",
    "\n",
    "model.add(Dense(4))\n",
    "model.add(Activation('softmax'))\n",
    "\n",
    "model.compile(loss = 'categorical_crossentropy',\n",
    "              optimizer = 'Adam',\n",
    "              metrics = ['accuracy'])"
   ]
  },
  {
   "cell_type": "code",
   "execution_count": 10,
   "metadata": {},
   "outputs": [],
   "source": [
    "plot_model(model, show_shapes=True, to_file='model.png')"
   ]
  },
  {
   "cell_type": "code",
   "execution_count": 11,
   "metadata": {},
   "outputs": [
    {
     "name": "stdout",
     "output_type": "stream",
     "text": [
      "Train on 118 samples, validate on 14 samples\n",
      "Epoch 1/10\n",
      "118/118 [==============================] - 11s 90ms/step - loss: 2.2123 - acc: 0.5085 - val_loss: 1.3102 - val_acc: 0.5714\n",
      "Epoch 2/10\n",
      "118/118 [==============================] - 10s 88ms/step - loss: 1.2964 - acc: 0.3898 - val_loss: 1.2411 - val_acc: 0.5714\n",
      "Epoch 3/10\n",
      "118/118 [==============================] - 10s 88ms/step - loss: 1.0685 - acc: 0.6441 - val_loss: 1.1150 - val_acc: 0.6429\n",
      "Epoch 4/10\n",
      "118/118 [==============================] - 10s 88ms/step - loss: 0.8035 - acc: 0.6610 - val_loss: 0.9647 - val_acc: 0.7143\n",
      "Epoch 5/10\n",
      "118/118 [==============================] - 10s 88ms/step - loss: 0.7256 - acc: 0.7627 - val_loss: 0.8284 - val_acc: 0.6429\n",
      "Epoch 6/10\n",
      "118/118 [==============================] - 10s 89ms/step - loss: 0.6358 - acc: 0.7373 - val_loss: 0.9475 - val_acc: 0.6429\n",
      "Epoch 7/10\n",
      "118/118 [==============================] - 10s 88ms/step - loss: 0.5757 - acc: 0.7288 - val_loss: 0.8231 - val_acc: 0.6429\n",
      "Epoch 8/10\n",
      "118/118 [==============================] - 10s 88ms/step - loss: 0.4575 - acc: 0.8305 - val_loss: 0.8478 - val_acc: 0.6429\n",
      "Epoch 9/10\n",
      "118/118 [==============================] - 10s 88ms/step - loss: 0.3655 - acc: 0.8729 - val_loss: 0.7409 - val_acc: 0.7143\n",
      "Epoch 10/10\n",
      "118/118 [==============================] - 10s 88ms/step - loss: 0.3167 - acc: 0.9068 - val_loss: 0.7098 - val_acc: 0.6429\n"
     ]
    },
    {
     "data": {
      "text/plain": [
       "<keras.callbacks.History at 0x7f1ce46141d0>"
      ]
     },
     "execution_count": 11,
     "metadata": {},
     "output_type": "execute_result"
    }
   ],
   "source": [
    "model.fit(X, Y, epochs = 10, validation_split = 0.1)"
   ]
  },
  {
   "cell_type": "code",
   "execution_count": 12,
   "metadata": {},
   "outputs": [
    {
     "name": "stdout",
     "output_type": "stream",
     "text": [
      "acc: 91.67%\n"
     ]
    }
   ],
   "source": [
    "scores = model.evaluate(X, Y, verbose=0)\n",
    "print(\"%s: %.2f%%\" % (model.metrics_names[1], scores[1]*100))"
   ]
  },
  {
   "cell_type": "code",
   "execution_count": 16,
   "metadata": {},
   "outputs": [],
   "source": [
    "model_json = model.to_json()\n",
    "with open(\"model.json\", \"w\") as json_file:\n",
    "    json_file.write(model_json)"
   ]
  },
  {
   "cell_type": "code",
   "execution_count": null,
   "metadata": {},
   "outputs": [],
   "source": []
  }
 ],
 "metadata": {
  "kernelspec": {
   "display_name": "Python 3",
   "language": "python",
   "name": "python3"
  },
  "language_info": {
   "codemirror_mode": {
    "name": "ipython",
    "version": 3
   },
   "file_extension": ".py",
   "mimetype": "text/x-python",
   "name": "python",
   "nbconvert_exporter": "python",
   "pygments_lexer": "ipython3",
   "version": "3.7.3"
  }
 },
 "nbformat": 4,
 "nbformat_minor": 2
}

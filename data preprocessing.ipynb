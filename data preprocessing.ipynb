{
 "cells": [
  {
   "cell_type": "code",
   "execution_count": 35,
   "metadata": {},
   "outputs": [],
   "source": [
    "import numpy as np\n",
    "import csv\n",
    "import cv2\n",
    "import matplotlib.pyplot as plt\n",
    "import os\n",
    "import random\n",
    "import pickle"
   ]
  },
  {
   "cell_type": "code",
   "execution_count": 36,
   "metadata": {},
   "outputs": [],
   "source": [
    "%matplotlib inline\n",
    "# path\n",
    "im_path = 'img/'"
   ]
  },
  {
   "cell_type": "code",
   "execution_count": 37,
   "metadata": {},
   "outputs": [],
   "source": [
    "def read_label():\n",
    "    label = []\n",
    "    tmp_label = []\n",
    "    tmp_file_names = []\n",
    "    with open('label.csv', 'r') as f:\n",
    "        file = csv.reader(f, delimiter=',')\n",
    "        tmp_label = [(row[0], row[1])for row in file]\n",
    "        tmp_file_names = os.listdir(im_path)\n",
    "    \n",
    "    for name in tmp_file_names:\n",
    "        for lb in tmp_label:\n",
    "            if(lb[1] == name):\n",
    "                label.append((int(lb[0]), lb[1]))\n",
    "                break\n",
    "    return label\n",
    "                \n",
    "    "
   ]
  },
  {
   "cell_type": "code",
   "execution_count": 38,
   "metadata": {},
   "outputs": [],
   "source": [
    "im_files = os.listdir(im_path)"
   ]
  },
  {
   "cell_type": "code",
   "execution_count": 39,
   "metadata": {},
   "outputs": [],
   "source": [
    "# read the label\n",
    "labels = read_label()"
   ]
  },
  {
   "cell_type": "code",
   "execution_count": 40,
   "metadata": {},
   "outputs": [],
   "source": [
    "def to_output_vector(x):\n",
    "    \"\"\"\n",
    "        state code:\n",
    "            0 --> running\n",
    "            1 --> stopping\n",
    "            2 --> turn left\n",
    "            3 --> turn right\n",
    "    \"\"\"\n",
    "    res = np.zeros(4)\n",
    "    res[x] = 1\n",
    "    return res"
   ]
  },
  {
   "cell_type": "code",
   "execution_count": 41,
   "metadata": {},
   "outputs": [],
   "source": [
    "# read the image \n",
    "training_data = []\n",
    "\n",
    "for lb in labels:\n",
    "    img = cv2.imread(im_path + lb[1])\n",
    "    training_data.append([img, to_output_vector(lb[0])])"
   ]
  },
  {
   "cell_type": "code",
   "execution_count": 42,
   "metadata": {},
   "outputs": [],
   "source": [
    "random.shuffle(training_data)"
   ]
  },
  {
   "cell_type": "code",
   "execution_count": 43,
   "metadata": {},
   "outputs": [],
   "source": [
    "x = []\n",
    "y = []\n",
    "for img, label in training_data:\n",
    "    x.append(img)\n",
    "    y.append(label)\n",
    "\n",
    "X = np.array(x).reshape(-1, 640, 480, 3)"
   ]
  },
  {
   "cell_type": "code",
   "execution_count": 45,
   "metadata": {},
   "outputs": [],
   "source": [
    "with open('img_data.pkl', 'wb') as f:\n",
    "    pickle.dump(X, f)\n",
    "    \n",
    "with open('img_label.pkl', 'wb') as f:\n",
    "    pickle.dump(y, f)    "
   ]
  },
  {
   "cell_type": "code",
   "execution_count": null,
   "metadata": {},
   "outputs": [],
   "source": []
  },
  {
   "cell_type": "code",
   "execution_count": null,
   "metadata": {},
   "outputs": [],
   "source": []
  }
 ],
 "metadata": {
  "kernelspec": {
   "display_name": "Python 3",
   "language": "python",
   "name": "python3"
  },
  "language_info": {
   "codemirror_mode": {
    "name": "ipython",
    "version": 3
   },
   "file_extension": ".py",
   "mimetype": "text/x-python",
   "name": "python",
   "nbconvert_exporter": "python",
   "pygments_lexer": "ipython3",
   "version": "3.7.3"
  }
 },
 "nbformat": 4,
 "nbformat_minor": 2
}
